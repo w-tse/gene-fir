{
 "cells": [
  {
   "cell_type": "code",
   "execution_count": 1,
   "metadata": {
    "collapsed": true
   },
   "outputs": [],
   "source": [
    "import numpy as np"
   ]
  },
  {
   "cell_type": "code",
   "execution_count": 2,
   "metadata": {
    "collapsed": true
   },
   "outputs": [],
   "source": [
    "POP_SIZE = 1000\n",
    "CULL_TOP = 150\n",
    "CULL_BOT = 50\n",
    "OFFSPRING_COUNT = POP_SIZE - CULL_TOP - CULL_BOT\n",
    "\n",
    "GENE_SIZE = 64\n",
    "GENOME_SIZE = 16\n",
    "\n",
    "GENERATIONS = 10000"
   ]
  },
  {
   "cell_type": "code",
   "execution_count": 3,
   "metadata": {},
   "outputs": [],
   "source": [
    "EVAL_LENGTH = 10000\n",
    "LOWCUT_IND = 2499\n",
    "HIGHCUT_IND = 4499\n",
    "EVAL_FREQS = [2**((step+1-EVAL_LENGTH)/(step+1))*2*np.pi for step in range(EVAL_LENGTH)]\n",
    "IDEAL_RESP = [0]*LOWCUT_IND + [1]*(HIGHCUT_IND-LOWCUT_IND) + [0]*(EVAL_LENGTH-HIGHCUT_IND)"
   ]
  },
  {
   "cell_type": "code",
   "execution_count": 4,
   "metadata": {
    "collapsed": true
   },
   "outputs": [],
   "source": [
    "class Gene:\n",
    "    def __init__(self, dna=None):\n",
    "        if dna is None:\n",
    "            dna = np.random.randn(GENE_SIZE)\n",
    "        self.dna = dna\n",
    "    \n",
    "    def mutate(self):\n",
    "        mutation = np.random.randn(GENE_SIZE)\n",
    "        self.dna += mutation"
   ]
  },
  {
   "cell_type": "code",
   "execution_count": 5,
   "metadata": {},
   "outputs": [],
   "source": [
    "class Organism:\n",
    "    def __init__(self, genome = None):\n",
    "        if genome is None:\n",
    "            genome = [Gene() for i in range(GENOME_SIZE)]\n",
    "        self.genome = genome\n",
    "        self.phenotype = self.translate()\n",
    "    \n",
    "    def mutate(self, targets=[]):\n",
    "        for i in targets:\n",
    "            self.genome[i].mutate()\n",
    "        self.phenotype = self.translate()\n",
    "        \n",
    "    def translate(self):\n",
    "        return np.concatenate([np.concatenate(self.genome), np.flip(np.concatenate(self.genome),0)])\n",
    "        \n",
    "   "
   ]
  },
  {
   "cell_type": "code",
   "execution_count": 6,
   "metadata": {},
   "outputs": [],
   "source": [
    "def z_transform(fir):\n",
    "    return lambda w : np.sum([fir[n]*(np.cos(n*w)-np.sin(n*w)*1j) for n in range(len(fir))])\n",
    "\n",
    "def generate_mag_response(Hz, frequencies=EVAL_FREQS):\n",
    "    for ind,freq in enumerate(frequencies):\n",
    "        yield (ind, np.absolute(Hz(freq)))\n",
    "\n",
    "def total_sse(Hz, frequences=EVAL_FREQS, ideal_resp=IDEAL_RESP):\n",
    "    step = 0\n",
    "    sse = 0\n",
    "    while step < len(frequencies):\n",
    "        step, cur_resp = generate_mag_response(Hz, frequencies=EVAL_FREQS)\n",
    "        error = ideal_resp[step] - cur_resp\n",
    "        sse += error**2\n",
    "    return sse"
   ]
  },
  {
   "cell_type": "code",
   "execution_count": 7,
   "metadata": {
    "collapsed": true
   },
   "outputs": [],
   "source": [
    "# looks at list of current best candidates, finds which one is worst and returns its fitness and index\n",
    "def status_quo(current_top):\n",
    "    _, cost = zip(*current_top)\n",
    "    threshold = max(cost)\n",
    "    hotspot = cost.index(threshold)\n",
    "    return hotspot, threshold\n",
    "\n",
    "# culls the population and returns a list of surviving candidates\n",
    "def cull(population):\n",
    "# top performers, guaranteed survival\n",
    "    top = []\n",
    "# the rest, random subset will survive\n",
    "    bottom = []\n",
    "\n",
    "    for tag, candidate in enumerate(population):\n",
    "        fir = candidate.phenotype()\n",
    "        fir_z = z_transform(fir)\n",
    "# before we have a full set of top candidates\n",
    "        if tag < CULL_TOP:\n",
    "            top.append((candidate, total_rmse(fir_z)))\n",
    "        else:\n",
    "# start replacing top candidates as they come\n",
    "            hotspot, threshold = status_quo(top)\n",
    "            sse = 0\n",
    "            step = 0\n",
    "            keep = True\n",
    "            while step < EVAL_LENGTH:\n",
    "                step, mag = generate_mag_response(fir_z)\n",
    "                sse += (IDEAL_RESP[step]-mag)**2\n",
    "# worse than status quo\n",
    "                if sse > threshold:\n",
    "                    keep = False\n",
    "                    bottom.append(candidate)\n",
    "                    break\n",
    "            if keep:\n",
    "                bottom.append(top[hotspot][0])\n",
    "                top[hotspot] = (candidate, score)\n",
    "    \n",
    "    fittest, = zip(*top)\n",
    "    lucky = np.random.choice(bottom,CULL_BOT,replace=False)\n",
    "    \n",
    "    return fittest+lucky\n",
    "        "
   ]
  },
  {
   "cell_type": "code",
   "execution_count": 8,
   "metadata": {},
   "outputs": [],
   "source": [
    "def cross(genomes):       \n",
    "    return [genomes[np.random.randint(2)][gene] for gene in range(GENOME_SIZE)]\n",
    "\n",
    "def mate(parents):\n",
    "    new_genome = cross((parents[0].genome(),parents[1].genome()))\n",
    "    return Organism(new_genome)\n",
    "\n",
    "def breed(survivors, offspring_count=OFFSPRING_COUNT):\n",
    "    return [mate(np.random.choice(survivors,2)) for count in range(offspring_count)]"
   ]
  },
  {
   "cell_type": "code",
   "execution_count": null,
   "metadata": {
    "collapsed": true
   },
   "outputs": [],
   "source": []
  }
 ],
 "metadata": {
  "kernelspec": {
   "display_name": "Python 3",
   "language": "python",
   "name": "python3"
  },
  "language_info": {
   "codemirror_mode": {
    "name": "ipython",
    "version": 3
   },
   "file_extension": ".py",
   "mimetype": "text/x-python",
   "name": "python",
   "nbconvert_exporter": "python",
   "pygments_lexer": "ipython3",
   "version": "3.5.3"
  }
 },
 "nbformat": 4,
 "nbformat_minor": 2
}
