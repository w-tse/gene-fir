{
 "cells": [
  {
   "cell_type": "code",
   "execution_count": null,
   "metadata": {
    "collapsed": true
   },
   "outputs": [],
   "source": [
    "import numpy as np\n",
    "import time"
   ]
  },
  {
   "cell_type": "code",
   "execution_count": null,
   "metadata": {
    "collapsed": true
   },
   "outputs": [],
   "source": [
    "POP_SIZE = 100\n",
    "CULL_TOP = 15\n",
    "CULL_BOT = 5\n",
    "OFFSPRING_COUNT = POP_SIZE - CULL_TOP - CULL_BOT\n",
    "\n",
    "GENE_SIZE = 64\n",
    "GENOME_SIZE = 16\n",
    "\n",
    "GENERATIONS = 1000"
   ]
  },
  {
   "cell_type": "code",
   "execution_count": null,
   "metadata": {},
   "outputs": [],
   "source": [
    "EVAL_LENGTH = 1000\n",
    "LOWCUT_IND = 249\n",
    "HIGHCUT_IND = 449\n",
    "EVAL_FREQS = [2**((step+1-EVAL_LENGTH)/(step+1))*2*np.pi for step in range(EVAL_LENGTH)]\n",
    "IDEAL_RESP = [0]*LOWCUT_IND + [1]*(HIGHCUT_IND-LOWCUT_IND) + [0]*(EVAL_LENGTH-HIGHCUT_IND)"
   ]
  },
  {
   "cell_type": "code",
   "execution_count": null,
   "metadata": {
    "collapsed": true
   },
   "outputs": [],
   "source": [
    "class Gene:\n",
    "    def __init__(self, dna=None):\n",
    "        if dna is None:\n",
    "            dna = np.random.randn(GENE_SIZE)\n",
    "        self.dna = dna\n",
    "    \n",
    "    def mutate(self):\n",
    "        mutation = np.random.randn(GENE_SIZE)\n",
    "        self.dna += mutation"
   ]
  },
  {
   "cell_type": "code",
   "execution_count": null,
   "metadata": {},
   "outputs": [],
   "source": [
    "class Organism:\n",
    "    def __init__(self, genome=None):\n",
    "        if genome is None:\n",
    "            genome = [Gene() for i in range(GENOME_SIZE)]\n",
    "        self.genome = genome\n",
    "        self.phenotype = self.translate()\n",
    "    \n",
    "    def mutate(self):\n",
    "        target_count = np.random.randint(16)\n",
    "        targets = np.random.choice(16,target_count)\n",
    "        for i in targets:\n",
    "            self.genome[i].mutate()\n",
    "        self.phenotype = self.translate()\n",
    "        \n",
    "    def translate(self):\n",
    "        raw_seq = np.concatenate([gene.dna for gene in self.genome])\n",
    "        return np.concatenate([raw_seq, np.flip(raw_seq,0)])\n",
    "        \n"
   ]
  },
  {
   "cell_type": "code",
   "execution_count": null,
   "metadata": {
    "collapsed": true
   },
   "outputs": [],
   "source": [
    "class Generation:\n",
    "    def __init__(self):\n",
    "        self.population = [Organism() for i in range(POP_SIZE)]\n",
    "\n",
    "    @staticmethod\n",
    "    def z_transform(fir):\n",
    "        return lambda w : np.sum([fir[n]*(np.cos(n*w)-np.sin(n*w)*1j) for n in range(len(fir))])\n",
    "\n",
    "    @staticmethod\n",
    "    def generate_mag_response(Hz, frequencies=EVAL_FREQS):\n",
    "        for ind,freq in enumerate(frequencies):\n",
    "            yield (ind, np.absolute(Hz(freq)))\n",
    "\n",
    "    @staticmethod\n",
    "    def total_sse(Hz, frequencies=EVAL_FREQS, ideal_resp=IDEAL_RESP):\n",
    "        sse = 0       \n",
    "        for freq in frequencies:\n",
    "            sse += np.absolute(Hz(freq))**2\n",
    "        return sse\n",
    "    \n",
    "    # looks at list of current best candidates, finds which one is worst and returns its fitness and index\n",
    "    @staticmethod\n",
    "    def status_quo(current_top):\n",
    "        _, cost = zip(*current_top)\n",
    "        threshold = max(cost)\n",
    "        hotspot = cost.index(threshold)\n",
    "        return hotspot, threshold\n",
    "        \n",
    "    # culls the population and returns a list of surviving candidates\n",
    "    def cull(self):\n",
    "    # top performers, guaranteed survival\n",
    "        top = []\n",
    "    # the rest, random subset will survive\n",
    "        bottom = []\n",
    "\n",
    "        for tag, candidate in enumerate(self.population):\n",
    "            fir = candidate.phenotype\n",
    "            fir_z = self.z_transform(fir)\n",
    "    # before we have a full set of top candidates\n",
    "            if tag < CULL_TOP:\n",
    "                top.append((candidate, self.total_sse(fir_z)))\n",
    "            else:\n",
    "    # start replacing top candidates as they come\n",
    "                hotspot, threshold = self.status_quo(top)\n",
    "                sse = 0\n",
    "                step = 0\n",
    "                keep = True\n",
    "                while step < EVAL_LENGTH:\n",
    "                    step, mag = self.generate_mag_response(fir_z)\n",
    "                    sse += (IDEAL_RESP[step]-mag)**2\n",
    "    # worse than status quo\n",
    "                    if sse > threshold:\n",
    "                        keep = False\n",
    "                        bottom.append(candidate)\n",
    "                        break\n",
    "                if keep:\n",
    "                    bottom.append(top[hotspot][0])\n",
    "                    top[hotspot] = (candidate, score)\n",
    "\n",
    "        fittest, = zip(*top)\n",
    "        lucky = np.random.choice(bottom,CULL_BOT,replace=False)\n",
    "\n",
    "        self.population = fittest+lucky\n",
    "    \n",
    "    @staticmethod\n",
    "    def cross(genomes):       \n",
    "        return [genomes[np.random.randint(2)][gene] for gene in range(GENOME_SIZE)]\n",
    "    \n",
    "    @staticmethod\n",
    "    def mate(parents):\n",
    "        new_genome = self.cross((parents[0].genome(),parents[1].genome()))\n",
    "        return Organism(new_genome)\n",
    "\n",
    "    def breed(self, offspring_count=OFFSPRING_COUNT):\n",
    "        self.population = [self.mate(np.random.choice(self.population,2)) for count in range(offspring_count)]\n",
    "  \n",
    "    def mutate(self):\n",
    "        target_count = np.random.randint(POP_SIZE)\n",
    "        targets = np.random.choice(POP_SIZE,target_count)\n",
    "        for i in targets:\n",
    "            self.population[i].mutate()\n",
    "            \n",
    "    def cycle(self):\n",
    "        self.cull()\n",
    "        self.breed()\n",
    "        self.mutate()\n",
    "        \n"
   ]
  },
  {
   "cell_type": "code",
   "execution_count": null,
   "metadata": {},
   "outputs": [],
   "source": [
    "test_gen = Generation()\n",
    "start = time.time()\n",
    "print('One Cycle')\n",
    "test_gen.cycle()\n",
    "end = time.time()\n",
    "print(end-start)"
   ]
  },
  {
   "cell_type": "code",
   "execution_count": null,
   "metadata": {},
   "outputs": [],
   "source": []
  },
  {
   "cell_type": "code",
   "execution_count": null,
   "metadata": {
    "collapsed": true
   },
   "outputs": [],
   "source": []
  }
 ],
 "metadata": {
  "kernelspec": {
   "display_name": "Python 3",
   "language": "python",
   "name": "python3"
  },
  "language_info": {
   "codemirror_mode": {
    "name": "ipython",
    "version": 3
   },
   "file_extension": ".py",
   "mimetype": "text/x-python",
   "name": "python",
   "nbconvert_exporter": "python",
   "pygments_lexer": "ipython3",
   "version": "3.5.3"
  }
 },
 "nbformat": 4,
 "nbformat_minor": 2
}
